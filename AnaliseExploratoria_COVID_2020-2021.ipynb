{
 "cells": [
  {
   "cell_type": "markdown",
   "metadata": {},
   "source": [
    " <div width=100%>\n",
    "    <img src=\"SARS-CoV-2_without_background.png\" width=\"15%\" align=\"right\">\n",
    "<h1> Tema projeto: \"Panorama nacional do Coronavírus</h1>\n",
    "</div>\n",
    "\n",
    "- Base de dados: <a href=\"https://covid.saude.gov.br/\">https://covid.saude.gov.br/</a>\n",
    "- Exemplo de algumas informações apresentadas:\n",
    "    - taxa de letalidade\n",
    "    - casos e óbitos acumulados por região\n",
    "    - casos e óbitos acumulados por UF\n",
    "    - informações agrupadas por ano"
   ]
  },
  {
   "cell_type": "markdown",
   "metadata": {},
   "source": [
    "# Importando as bibliotecas"
   ]
  },
  {
   "cell_type": "code",
   "execution_count": null,
   "metadata": {
    "colab": {},
    "colab_type": "code",
    "id": "G5HpRApza9UR"
   },
   "outputs": [],
   "source": [
    "import pandas as pd\n",
    "import matplotlib.pyplot as plt\n",
    "import pandera as pa\n",
    "\n",
    "from pylab import *\n",
    "\n",
    "from validate_data import validate_data_df"
   ]
  },
  {
   "cell_type": "markdown",
   "metadata": {},
   "source": [
    "# Criando os dataframes\n",
    "\n",
    "- Fonte dos dados: [Coronavírus Brasil](https://covid.saude.gov.br/) (atualizado em: 29/08/2021 17:40)"
   ]
  },
  {
   "cell_type": "code",
   "execution_count": null,
   "metadata": {
    "colab": {},
    "colab_type": "code",
    "id": "Rpxs2yU0ba23"
   },
   "outputs": [],
   "source": [
    "df_2020_pt1 = pd.read_csv(\"HIST_PAINEL_COVIDBR_2020_Parte1_29ago2021.csv\", error_bad_lines=False, warn_bad_lines=False, sep=\";\")\n",
    "df_2020_pt2 = pd.read_csv(\"HIST_PAINEL_COVIDBR_2020_Parte2_29ago2021.csv\", error_bad_lines=False, warn_bad_lines=False, sep=\";\")\n",
    "df_2021_pt1 = pd.read_csv(\"HIST_PAINEL_COVIDBR_2021_Parte1_29ago2021.csv\", error_bad_lines=False, warn_bad_lines=False, sep=\";\")\n",
    "df_2021_pt2 = pd.read_csv(\"HIST_PAINEL_COVIDBR_2021_Parte2_29ago2021.csv\", error_bad_lines=False, warn_bad_lines=False, sep=\";\")"
   ]
  },
  {
   "cell_type": "markdown",
   "metadata": {},
   "source": [
    "# Overview dos dataframes"
   ]
  },
  {
   "cell_type": "markdown",
   "metadata": {},
   "source": [
    "## Verificando se são as mesmas colunas em todos os dataframes"
   ]
  },
  {
   "cell_type": "code",
   "execution_count": null,
   "metadata": {},
   "outputs": [],
   "source": [
    "print(f\" df_2020_pt1 == df_2020_pt2: {set(df_2020_pt1.dtypes.index == df_2020_pt2.dtypes.index)}\")\n",
    "print(f\" df_2020_pt1 == df_2021_p12: {set(df_2020_pt1.dtypes.index == df_2021_pt1.dtypes.index)}\")\n",
    "print(f\" df_2020_pt1 == df_2021_pt2: {set(df_2020_pt1.dtypes.index == df_2021_pt2.dtypes.index)}\")"
   ]
  },
  {
   "cell_type": "markdown",
   "metadata": {},
   "source": [
    "## Null values por coluna dos dataframes"
   ]
  },
  {
   "cell_type": "code",
   "execution_count": null,
   "metadata": {},
   "outputs": [],
   "source": [
    "df_aux = pd.DataFrame({\"\": [str(x) for x in df_2020_pt1.isnull().sum().index],\n",
    "    \"df_2020_pt1\": [x for x in df_2020_pt1.isnull().sum()],\n",
    "    \"df_2020_pt2\": [x for x in df_2020_pt2.isnull().sum()],\n",
    "    \"df_2021_pt1\": [x for x in df_2021_pt1.isnull().sum()],\n",
    "    \"df_2021_pt2\": [x for x in df_2021_pt2.isnull().sum()],\n",
    "    })\n",
    "\n",
    "df_aux.set_index(\"\")"
   ]
  },
  {
   "cell_type": "markdown",
   "metadata": {},
   "source": [
    "## Tipo de dados por dataframe"
   ]
  },
  {
   "cell_type": "code",
   "execution_count": null,
   "metadata": {},
   "outputs": [],
   "source": [
    "df_aux = pd.DataFrame({\"\": [str(x) for x in df_2020_pt1.dtypes.index],\n",
    "    \"df_2020_pt1\": [x for x in df_2020_pt1.dtypes],\n",
    "    \"df_2020_pt2\": [x for x in df_2020_pt2.dtypes],\n",
    "    \"df_2021_pt1\": [x for x in df_2021_pt1.dtypes],\n",
    "    \"df_2021_pt2\": [x for x in df_2021_pt2.dtypes],\n",
    "    })\n",
    "df_aux.set_index(\"\")"
   ]
  },
  {
   "cell_type": "markdown",
   "metadata": {},
   "source": [
    "## Precisamos tranformar a coluna \"data\" de objtect dtype -> datetime"
   ]
  },
  {
   "cell_type": "code",
   "execution_count": null,
   "metadata": {},
   "outputs": [],
   "source": [
    "df_2020_pt1 = validate_data_df(df_2020_pt1)\n",
    "df_2020_pt2 = validate_data_df(df_2020_pt2)\n",
    "df_2021_pt1 = validate_data_df(df_2021_pt1)\n",
    "df_2021_pt2 = validate_data_df(df_2021_pt2)"
   ]
  },
  {
   "cell_type": "markdown",
   "metadata": {},
   "source": [
    "## Range de datas por dataframe"
   ]
  },
  {
   "cell_type": "code",
   "execution_count": null,
   "metadata": {},
   "outputs": [],
   "source": [
    "def aux_rangeDay(name,df):\n",
    "    aux=df.data\n",
    "    print(f\" {name}:\\n   {aux.min().day}/{aux.min().month}/{aux.min().year} - {aux.max().day}/{aux.max().month}/{aux.max().year} -> {(aux.max()-aux.min()).days} dias\")\n",
    "\n",
    "aux_rangeDay('df_2020_pt1',df_2020_pt1)\n",
    "aux_rangeDay('df_2020_pt2',df_2020_pt2)\n",
    "aux_rangeDay('df_2021_pt1',df_2021_pt1)\n",
    "aux_rangeDay('df_2021_pt2',df_2021_pt2)"
   ]
  },
  {
   "cell_type": "markdown",
   "metadata": {},
   "source": [
    "## Total de nulos por dataframe"
   ]
  },
  {
   "cell_type": "code",
   "execution_count": null,
   "metadata": {},
   "outputs": [],
   "source": [
    "def aux_percRound(df):\n",
    "    return round((df.isnull().sum().sum()/(df.shape[0]*df.shape[1]))*100, 2)\n",
    "\n",
    "df_aux = pd.DataFrame({\"\":['Shape','Nulos', 'Nulos %'],\n",
    "    \"df_2020_pt1\": [(df_2020_pt1.shape) , df_2020_pt1.isnull().sum().sum(), aux_percRound(df_2020_pt1)],\n",
    "    \"df_2020_pt2\": [(df_2020_pt2.shape), df_2020_pt2.isnull().sum().sum(), aux_percRound(df_2020_pt2)],\n",
    "    \"df_2021_pt1\": [(df_2021_pt1.shape), df_2021_pt1.isnull().sum().sum(), aux_percRound(df_2021_pt1)],\n",
    "    \"df_2021_pt2\": [(df_2021_pt2.shape), df_2021_pt2.isnull().sum().sum(), aux_percRound(df_2021_pt2)]\n",
    "    })\n",
    "\n",
    "df_aux.set_index(\"\")"
   ]
  },
  {
   "cell_type": "markdown",
   "metadata": {},
   "source": [
    "## Concatenando os dataframes"
   ]
  },
  {
   "cell_type": "code",
   "execution_count": null,
   "metadata": {
    "colab": {
     "base_uri": "https://localhost:8080/",
     "height": 34
    },
    "colab_type": "code",
    "id": "UCJpu--kK9wo",
    "outputId": "8d55d823-0742-4a54-fcb2-16df652007da"
   },
   "outputs": [],
   "source": [
    "df = pd.concat([df_2020_pt1,df_2020_pt2,df_2021_pt1,df_2021_pt2])\n",
    "print(f\"Datrafme shape: {df.shape}\")\n",
    "df.to_csv(\"HIST_PAINEL_COVIDBR_2020_2021.csv\",index=False)"
   ]
  },
  {
   "cell_type": "markdown",
   "metadata": {},
   "source": [
    "# Analisando os dados\n",
    "Dataframes concat"
   ]
  },
  {
   "cell_type": "code",
   "execution_count": null,
   "metadata": {
    "colab": {
     "base_uri": "https://localhost:8080/",
     "height": 306
    },
    "colab_type": "code",
    "id": "P9S1i8o1lUu-",
    "outputId": "6197dad1-cbfe-444a-a212-1bfa12541ebd"
   },
   "outputs": [],
   "source": [
    "df = pd.read_csv(\"HIST_PAINEL_COVIDBR_2020_2021.csv\")\n",
    "print(f\"Datrafme shape: {df.shape}\")"
   ]
  },
  {
   "cell_type": "markdown",
   "metadata": {},
   "source": [
    "Validando se o dtype da coluna data está correto"
   ]
  },
  {
   "cell_type": "code",
   "execution_count": null,
   "metadata": {},
   "outputs": [],
   "source": [
    "validate_data_df(df)\n",
    "df.head(5)"
   ]
  },
  {
   "cell_type": "markdown",
   "metadata": {},
   "source": [
    "## Verificando quantidade de nulos por coluna"
   ]
  },
  {
   "cell_type": "code",
   "execution_count": null,
   "metadata": {},
   "outputs": [],
   "source": [
    "df_aux = pd.DataFrame({\"\": [str(x) for x in df.isnull().sum().index],\n",
    "    \"dtypes\": [x for x in df.dtypes],\n",
    "    \"nulos\": [x for x in df.isnull().sum()],\n",
    "    \"% nulos\": [round((x/df.shape[0])*100,2) for x in df.isnull().sum()]\n",
    "    \n",
    "    })\n",
    "df_aux.set_index(\"\")"
   ]
  },
  {
   "cell_type": "markdown",
   "metadata": {},
   "source": [
    "Recuperadosnovos e emAcompanhamentoNovos possuem quase 100% de valores nulos, portanto essas colunas serão descartados"
   ]
  },
  {
   "cell_type": "code",
   "execution_count": null,
   "metadata": {},
   "outputs": [],
   "source": [
    "try:\n",
    "    df.drop(columns=['Recuperadosnovos','emAcompanhamentoNovos'],inplace=True)\n",
    "    print(\"Colunas removidas\")\n",
    "except:\n",
    "    print(\"As colunas já foram removidas\")"
   ]
  },
  {
   "cell_type": "markdown",
   "metadata": {},
   "source": [
    "## Considerando que região não possui valores nulos, vamos olhar os registros"
   ]
  },
  {
   "cell_type": "code",
   "execution_count": null,
   "metadata": {},
   "outputs": [],
   "source": [
    "df.regiao.value_counts()"
   ]
  },
  {
   "cell_type": "markdown",
   "metadata": {},
   "source": [
    "## Código UF também não possui valores nulos"
   ]
  },
  {
   "cell_type": "code",
   "execution_count": null,
   "metadata": {},
   "outputs": [],
   "source": [
    "df.coduf.unique()"
   ]
  },
  {
   "cell_type": "markdown",
   "metadata": {},
   "source": [
    "## Replace o código UF (coduf) pelo nome da Unidade Federativa\n",
    "\n",
    "Fonte: [IBGE](https://www.ibge.gov.br/explica/codigos-dos-municipios.php)\n"
   ]
  },
  {
   "cell_type": "code",
   "execution_count": null,
   "metadata": {},
   "outputs": [],
   "source": [
    "dict_uf = {\n",
    "\t12: \"Acre\",\n",
    "    27: \"Alagoas\",\n",
    "    16: \"Amapá\",\n",
    "    13: \"Amazonas\",\n",
    "    29: \"Bahia\",\n",
    "    23: \"Ceará\",\n",
    "    53: \"Distrito Federal\",\n",
    "    32: \"Espírito Santo\",\n",
    "    52: \"Goiás\",\n",
    "    21: \"Maranhão\",\n",
    "    51: \"Mato Grosso\",\n",
    "    50: \"Mato Grosso do Sul\",\n",
    "    31: \"Minas Gerais\",\n",
    "    15: \"Pará\",\n",
    "    25: \"Paraíba\",\n",
    "    41: \"Paraná\",\n",
    "    26: \"Pernambuco\",\n",
    "    22: \"Piauí\",\n",
    "    24: \"Rio Grande do Norte\",\n",
    "    43: \"Rio Grande do Sul\",\n",
    "    33: \"Rio de Janeiro\",\n",
    "    11: \"Rôndonia\",\n",
    "    14: \"Roraima\",\n",
    "    42: \"Santa Catarina\",\n",
    "    35: \"São Paulo\",\n",
    "    28: \"Sergipe\",\n",
    "    17: \"Tocantis\",\n",
    "    76: \"Brasil\",\n",
    "}\n",
    "df.coduf.replace(dict_uf, inplace=True)\n",
    "df.coduf.unique()"
   ]
  },
  {
   "cell_type": "markdown",
   "metadata": {},
   "source": [
    "## "
   ]
  },
  {
   "cell_type": "markdown",
   "metadata": {},
   "source": [
    "# Gráficos"
   ]
  },
  {
   "cell_type": "markdown",
   "metadata": {},
   "source": [
    "## Valores acumulados (2020-2021)\n",
    "- Visualização dos casos e obitos acumulados desde 25/2/2020 até 29/8/2021"
   ]
  },
  {
   "cell_type": "code",
   "execution_count": null,
   "metadata": {},
   "outputs": [],
   "source": [
    "filtro_regiao = df.regiao == \"Brasil\"\n",
    "filtro_data = df.data == df.data.max()\n",
    "\n",
    "df_aux=df.loc[filtro_regiao & filtro_data, ['casosAcumulado','obitosAcumulado','regiao','coduf']]\n",
    "df_aux=df_aux.groupby(df_aux.coduf)[['casosAcumulado','obitosAcumulado','regiao']].max()\n",
    "\n",
    "plt.figure(1,figsize=(15,4))\n",
    "plt.subplot(121)\n",
    "df_aux.groupby(df_aux.regiao)[['casosAcumulado','obitosAcumulado']].sum().plot.bar(title=\"Valor máximo registrado: 2020-2021\",ax=plt.gca())\n",
    "plt.xlabel(\"Regiões\")\n",
    "plt.ylabel(\"Ocorrências\")\n",
    "plt.xticks(rotation='horizontal')\n",
    "gca().yaxis.set_major_formatter(mpl.ticker.StrMethodFormatter('{x:,.0f}'))\n",
    "\n",
    "\n",
    "df_aux.drop(columns=['regiao'],inplace=True)\n",
    "df_aux=df_aux.T\n",
    "df_aux['ocorrencias']=['casosAcumulado','obitosAcumulado']\n",
    "\n",
    "plt.subplot(122)\n",
    "df_aux.groupby(df_aux.ocorrencias)[['Brasil']].max().plot.pie(subplots=True,ax=plt.gca(),autopct='%1.1f%%',legend=False,ylabel='')\n",
    "plt.title(\"Taxa de letalidade - Brasil\",fontsize=14)"
   ]
  },
  {
   "cell_type": "code",
   "execution_count": null,
   "metadata": {},
   "outputs": [],
   "source": [
    "filtro_regiao = df.regiao != \"Brasil\"\n",
    "filtro_data = df.data == df.data.max()\n",
    "\n",
    "df_aux=df.loc[filtro_regiao & filtro_data, ['casosAcumulado','obitosAcumulado','regiao','coduf']]\n",
    "df_aux=df_aux.groupby(df_aux.coduf)[['casosAcumulado','obitosAcumulado','regiao']].max()\n",
    "\n",
    "plt.figure(1,figsize=(15,4))\n",
    "plt.subplot(131)\n",
    "df_aux.groupby(df_aux.regiao)[['casosAcumulado','obitosAcumulado']].sum().plot.bar(title=\"Valor máximo registrado: 2020-2021\",ax=plt.gca())\n",
    "plt.xlabel(\"Regiões\")\n",
    "plt.ylabel(\"Ocorrências\")\n",
    "plt.xticks(rotation='horizontal')\n",
    "gca().yaxis.set_major_formatter(mpl.ticker.StrMethodFormatter('{x:,.0f}'))\n",
    "\n",
    "plt.subplot(132)\n",
    "df_aux.groupby(df_aux.regiao)[['casosAcumulado']].sum().plot.pie(subplots=True,ax=plt.gca(),autopct='%1.1f%%',legend=False,ylabel='')\n",
    "plt.title(\"casosAcumulado\",fontsize=14)\n",
    "plt.xlabel(\"\")\n",
    "\n",
    "plt.subplot(133)\n",
    "df_aux.groupby(df_aux.regiao)[['obitosAcumulado']].sum().plot.pie(subplots=True,ax=plt.gca(),autopct='%1.1f%%',legend=False,ylabel='')\n",
    "plt.title(\"obitosAcumulado\",fontsize=14)\n",
    "\n",
    "\n",
    "plt.show()"
   ]
  },
  {
   "cell_type": "markdown",
   "metadata": {},
   "source": [
    "### Funções"
   ]
  },
  {
   "cell_type": "code",
   "execution_count": null,
   "metadata": {},
   "outputs": [],
   "source": [
    "#Função para descobrir qual foi o numero max de casosAcumulado de todas as regiões\n",
    "def maxTodasRegioes(df):\n",
    "    filtro_regiao = df.regiao != \"Brasil\"\n",
    "    filtro_data = df.data == df.data.max()\n",
    "\n",
    "    df_aux=df.loc[filtro_regiao & filtro_data, ['casosAcumulado','obitosAcumulado','regiao','coduf','data']]\n",
    "    #Usamos max() e não sum(), pois existe uma ocorrência por UF com o valor somado das demais\n",
    "    max_caso = df_aux.groupby(df_aux[\"regiao\"])[[\"casosAcumulado\"]].max().max()[0]\n",
    "    max_obito = df_aux.groupby(df_aux[\"regiao\"])[[\"obitosAcumulado\"]].max().max()[0]\n",
    "\n",
    "    return max_caso, max_obito"
   ]
  },
  {
   "cell_type": "code",
   "execution_count": null,
   "metadata": {},
   "outputs": [],
   "source": [
    "#Função para plotar os casos e óbitos acumulados por UF\n",
    "\n",
    "def plot_UFporRegiao(nameRegiao,max_caso, max_obito):\n",
    "    filtro_regiao = df.regiao != \"Brasil\"\n",
    "    filtro_data = df.data == df.data.max()\n",
    "    filtro_nameUF = df.regiao == nameRegiao\n",
    "\n",
    "    df_aux=df.loc[filtro_regiao & filtro_data & filtro_nameUF, ['casosAcumulado','obitosAcumulado','coduf']]\n",
    "    #Usamos max() e não sum(), pois existe uma ocorrência por UF com o valor somado das demais\n",
    "\n",
    "    plt.figure(1,figsize=(15,10))\n",
    "\n",
    "    plt.subplot(221)\n",
    "    df_aux.groupby(df_aux[\"coduf\"])[[\"casosAcumulado\"]].max().plot.bar(title=f\"{nameRegiao} (2020-2021)\",ax=plt.gca())\n",
    "    plt.xlabel(\"UF\")\n",
    "    plt.ylim((0,max_caso)) #fixar o limite do eixo y para poder comparar visualmente as proporçoes de ocorrências\n",
    "    plt.ylabel(\"Ocorrências\")\n",
    "    gca().yaxis.set_major_formatter(mpl.ticker.StrMethodFormatter('{x:,.0f}'))\n",
    "\n",
    "    plt.subplot(223)\n",
    "    df_aux.groupby(df_aux[\"coduf\"])[[\"obitosAcumulado\"]].max().plot.bar(ax=plt.gca(), color=\"darkorange\")\n",
    "    plt.xlabel(\"UF\")\n",
    "    plt.ylim((0,max_obito)) #fixar o limite do eixo y para poder comparar visualmente as proporçoes de ocorrências\n",
    "    plt.ylabel(\"Ocorrências\")\n",
    "    gca().yaxis.set_major_formatter(mpl.ticker.StrMethodFormatter('{x:,.0f}'))\n",
    "\n",
    "    plt.subplot(222)\n",
    "    df_aux.groupby(df_aux[\"coduf\"])[[\"casosAcumulado\"]].max().plot.pie(subplots=True,ax=plt.gca(),autopct='%1.1f%%',legend=False,ylabel='')\n",
    "    plt.title(\"casosAcumulado\",fontsize=14)\n",
    "\n",
    "    plt.subplot(224)\n",
    "    df_aux.groupby(df_aux[\"coduf\"])[[\"obitosAcumulado\"]].max().plot.pie(subplots=True,ax=plt.gca(),autopct='%1.1f%%',legend=False,ylabel='')\n",
    "    plt.title(\"obitosAcumulado\",fontsize=14)\n",
    "\n",
    "    plt.show()"
   ]
  },
  {
   "cell_type": "markdown",
   "metadata": {},
   "source": [
    "## A escala de casosAcumulado foi fixada para comparação visual com o valor máximo observado nos casos, o mesmo foi feito para obitosAcumulado"
   ]
  },
  {
   "cell_type": "code",
   "execution_count": null,
   "metadata": {},
   "outputs": [],
   "source": [
    "max_caso, max_obito = maxTodasRegioes(df)\n",
    "for nomeRegiao in df.regiao.unique():\n",
    "    if nomeRegiao != \"Brasil\":\n",
    "        plot_UFporRegiao(nomeRegiao,max_caso, max_obito)"
   ]
  },
  {
   "cell_type": "markdown",
   "metadata": {},
   "source": [
    "## Visualização por ano"
   ]
  },
  {
   "cell_type": "markdown",
   "metadata": {},
   "source": [
    "Proporção de casos e obitos regitrados por ano"
   ]
  },
  {
   "cell_type": "code",
   "execution_count": null,
   "metadata": {},
   "outputs": [],
   "source": [
    "filtro_regiao = df.regiao == \"Brasil\"\n",
    "df_aux=df.loc[filtro_regiao, ['casosAcumulado','obitosAcumulado','data','regiao','coduf']]\n",
    "df_aux=df_aux.groupby(df_aux.data.dt.year)[['casosAcumulado','obitosAcumulado','regiao','data']].max()\n",
    "\n",
    "df_aux.loc[2021,'casosAcumulado']= df_aux.loc[2021,'casosAcumulado'] - df_aux.loc[2020,'casosAcumulado']\n",
    "df_aux.loc[2021,'obitosAcumulado']= df_aux.loc[2021,'obitosAcumulado'] - df_aux.loc[2020,'obitosAcumulado']\n",
    "\n",
    "df_aux.rename(columns={'casosAcumulado': 'casos', 'obitosAcumulado':'obitos'},inplace=True)\n",
    "\n",
    "#df_aux=df_aux.groupby(df_aux.data.dt.year)[['casos','obitos']].max()\n",
    "#df_aux.plot(kind='pie', subplots=True, colors=['g', 'r'])\n",
    "\n",
    "plt.figure(1,figsize=(15,4))\n",
    "plt.subplot(131)\n",
    "df_aux.groupby(df_aux.data.dt.year)[['casos','obitos']].max().plot.bar(ax=plt.gca())\n",
    "plt.title(\"Brasil\",fontsize=14)\n",
    "plt.ylabel(\"Ocorrências\")\n",
    "plt.xlabel(\"Ano\")\n",
    "gca().yaxis.set_major_formatter(mpl.ticker.StrMethodFormatter('{x:,.0f}'))\n",
    "\n",
    "plt.subplot(132)\n",
    "df_aux.groupby(df_aux.data.dt.year)[['casos']].max().plot.pie(subplots=True,colors=['blue', 'darkblue'],ax=plt.gca(),autopct='%1.1f%%',ylabel='',legend=False)\n",
    "plt.title(\"Casos registrados\",fontsize=14)\n",
    "\n",
    "plt.subplot(133)\n",
    "df_aux.groupby(df_aux.data.dt.year)[['obitos']].max().plot.pie(subplots=True,colors=['yellow', 'darkorange'],ax=plt.gca(),autopct='%1.1f%%',ylabel='',legend=False)\n",
    "plt.title(\"Obitos registrados\",fontsize=14)\n",
    "plt.show()"
   ]
  },
  {
   "cell_type": "markdown",
   "metadata": {},
   "source": [
    "Função para auxiliar separação dos dataframes por ano"
   ]
  },
  {
   "cell_type": "code",
   "execution_count": null,
   "metadata": {},
   "outputs": [],
   "source": [
    "def aux_df_year(df,ano):\n",
    "    filtro_regiao = df.regiao == \"Brasil\"\n",
    "    filtro_ano = df.data.dt.year == ano\n",
    "    df_aux=df.loc[filtro_regiao & filtro_ano, ['casosNovos','obitosNovos','data','regiao']]\n",
    "    df_aux=df_aux.groupby(df.data.dt.month)[['casosNovos','obitosNovos']].max()\n",
    "    df_aux['ano']=ano\n",
    "    df_aux=df_aux.reset_index()\n",
    "\n",
    "    df_aux.rename(columns={'data':'mes'},inplace=True)\n",
    "\n",
    "    return df_aux"
   ]
  },
  {
   "cell_type": "markdown",
   "metadata": {},
   "source": [
    "Visualizar a quantidade de registros mensais por ano (casos e obitos)"
   ]
  },
  {
   "cell_type": "code",
   "execution_count": null,
   "metadata": {},
   "outputs": [],
   "source": [
    "df_2020 = aux_df_year(df, 2020)\n",
    "df_2021 = aux_df_year(df, 2021)\n",
    "\n",
    "df_aux = pd.concat([df_2020,df_2021])\n",
    "df_aux=df_aux.set_index('mes')\n",
    "\n",
    "plt.figure(1,figsize=(15,4))\n",
    "plt.subplot(121)\n",
    "df_aux.groupby(df_aux.ano)['casosNovos'].plot.line(legend=True, marker='o', color={2020:\"blue\",2021:\"grey\"},ax=plt.gca())\n",
    "gca().yaxis.set_major_formatter(mpl.ticker.StrMethodFormatter('{x:,.0f}'))\n",
    "plt.title(\"Casos Novos (Brasil)\")\n",
    "plt.ylabel(\"Registros\")\n",
    "plt.xlabel(\"Mês\")\n",
    "\n",
    "plt.subplot(122)\n",
    "df_aux.groupby(df_aux.ano)['obitosNovos'].plot.line(legend=True, marker='o', color={2020:\"darkorange\",2021:\"red\"},ax=plt.gca())\n",
    "gca().yaxis.set_major_formatter(mpl.ticker.StrMethodFormatter('{x:,.0f}'))\n",
    "plt.title(\"Obitos Novos (Brasil)\")\n",
    "plt.ylabel(\"Registros\")\n",
    "plt.xlabel(\"Mês\")\n",
    "plt.show()"
   ]
  },
  {
   "cell_type": "markdown",
   "metadata": {},
   "source": [
    "Boxplot da quantidade de registros mensais por ano (casos e obitos)"
   ]
  },
  {
   "cell_type": "code",
   "execution_count": null,
   "metadata": {},
   "outputs": [],
   "source": [
    "df_2020 = aux_df_year(df, 2020)\n",
    "df_2020.drop(columns=['mes','ano'],inplace=True)\n",
    "\n",
    "df_2021 = aux_df_year(df, 2021)\n",
    "df_2021.drop(columns=['mes','ano'],inplace=True)\n",
    "\n",
    "listaCasos=[df_2020['casosNovos'].values,df_2021['casosNovos'].values]\n",
    "listaObitos=[df_2020['obitosNovos'].values,df_2021['obitosNovos'].values]\n",
    "\n",
    "fig= plt.figure(figsize=(15,5))#figsize=(10,5)\n",
    "ax = fig.add_subplot(121)\n",
    "plt.boxplot(listaCasos, meanline=False,showmeans=True, boxprops=dict(color='blue'))\n",
    "ax.set_xticklabels(['2020','2021'])\n",
    "plt.title(\"Boxplot casosNovos (Brasil)\",fontsize=14)\n",
    "plt.ylabel('Registro',fontsize=12)\n",
    "plt.xlabel('Ano',fontsize=12)\n",
    "gca().yaxis.set_major_formatter(mpl.ticker.StrMethodFormatter('{x:,.0f}'))\n",
    "\n",
    "ax = fig.add_subplot(122)\n",
    "plt.boxplot(listaObitos, meanline=False,showmeans=True, boxprops=dict(color='orange'))\n",
    "ax.set_xticklabels(['2020','2021'])\n",
    "plt.title(\"Boxplot obitosNovos (Brasil)\",fontsize=14)\n",
    "plt.ylabel('Registros',fontsize=12)\n",
    "plt.xlabel('Ano',fontsize=12)\n",
    "gca().yaxis.set_major_formatter(mpl.ticker.StrMethodFormatter('{x:,.0f}'))\n",
    "plt.show()"
   ]
  }
 ],
 "metadata": {
  "colab": {
   "name": "Aula8-Analise_Exploratoria.ipynb",
   "provenance": []
  },
  "kernelspec": {
   "display_name": "Python 3.9.7 64-bit",
   "language": "python",
   "name": "python3"
  },
  "language_info": {
   "codemirror_mode": {
    "name": "ipython",
    "version": 3
   },
   "file_extension": ".py",
   "mimetype": "text/x-python",
   "name": "python",
   "nbconvert_exporter": "python",
   "pygments_lexer": "ipython3",
   "version": "3.9.7 (default, Sep 16 2021, 16:59:28) [MSC v.1916 64 bit (AMD64)]"
  },
  "vscode": {
   "interpreter": {
    "hash": "f49206fcf84a9145e7e21228cbafa911d1ac18292303b01e865d8267a9c448f7"
   }
  }
 },
 "nbformat": 4,
 "nbformat_minor": 2
}
